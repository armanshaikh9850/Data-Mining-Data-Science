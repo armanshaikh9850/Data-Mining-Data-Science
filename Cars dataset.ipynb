{
 "cells": [
  {
   "cell_type": "code",
   "execution_count": 4,
   "metadata": {},
   "outputs": [
    {
     "name": "stdout",
     "output_type": "stream",
     "text": [
      "Coefficients:  [0.00780526 0.00755095]\n",
      "Intercept:  79.69471929115939\n"
     ]
    }
   ],
   "source": [
    "import pandas as pd\n",
    "from sklearn.linear_model import LinearRegression\n",
    "data=pd.read_csv('Cars.csv')\n",
    "x=data[['Volume','Weight']]\n",
    "y=data['CO2']\n",
    "model=LinearRegression().fit(x,y)\n",
    "print('Coefficients: ',model.coef_)\n",
    "print('Intercept: ',model.intercept_)"
   ]
  },
  {
   "cell_type": "code",
   "execution_count": 23,
   "metadata": {},
   "outputs": [
    {
     "name": "stdout",
     "output_type": "stream",
     "text": [
      "Estimated Coefficient:  [0.00780526 0.00755095]\n",
      "Intercept:  [79.69471929]\n",
      "Mean squared error: 33.68\n",
      "Root mean squared error: 5.80\n"
     ]
    },
    {
     "name": "stderr",
     "output_type": "stream",
     "text": [
      "/home/arman/.local/lib/python3.11/site-packages/sklearn/metrics/_regression.py:492: FutureWarning: 'squared' is deprecated in version 1.4 and will be removed in 1.6. To calculate the root mean squared error, use the function'root_mean_squared_error'.\n",
      "  warnings.warn(\n"
     ]
    }
   ],
   "source": [
    "import pandas as pd\n",
    "from sklearn.linear_model import LinearRegression\n",
    "from sklearn.metrics import mean_squared_error\n",
    "data=pd.read_csv('Cars.csv')\n",
    "data\n",
    "x=data[['Volume','Weight']]\n",
    "y=data[['CO2']]\n",
    "model=LinearRegression().fit(x,y)\n",
    "y_pred=model.predict(x)\n",
    "print('Estimated Coefficient: ',model.coef_[0])\n",
    "print('Intercept: ',model.intercept_)\n",
    "mse=mean_squared_error(y,y_pred)\n",
    "rmse=mean_squared_error(y,y_pred,squared=False)\n",
    "print(f\"Mean squared error: {mse:.2f}\")\n",
    "print(f\"Root mean squared error: {rmse:.2f}\")"
   ]
  },
  {
   "cell_type": "code",
   "execution_count": null,
   "metadata": {},
   "outputs": [],
   "source": []
  }
 ],
 "metadata": {
  "kernelspec": {
   "display_name": "Python 3 (ipykernel)",
   "language": "python",
   "name": "python3"
  },
  "language_info": {
   "codemirror_mode": {
    "name": "ipython",
    "version": 3
   },
   "file_extension": ".py",
   "mimetype": "text/x-python",
   "name": "python",
   "nbconvert_exporter": "python",
   "pygments_lexer": "ipython3",
   "version": "3.11.9"
  }
 },
 "nbformat": 4,
 "nbformat_minor": 2
}
