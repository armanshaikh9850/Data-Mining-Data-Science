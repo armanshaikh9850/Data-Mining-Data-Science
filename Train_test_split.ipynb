{
 "cells": [
  {
   "cell_type": "code",
   "execution_count": 19,
   "metadata": {
    "scrolled": false
   },
   "outputs": [
    {
     "name": "stdout",
     "output_type": "stream",
     "text": [
      "\n",
      " First few Rows of the dataset : \n",
      "    Outlook Temperature Humidity    Wind Play Tennis\n",
      "0     Sunny         Hot     High    Weak          No\n",
      "1     Sunny         Hot     High  Strong          No\n",
      "2  Overcast         Hot     High    Weak         Yes\n",
      "3      Rain        Mild     High    Weak         Yes\n",
      "4      Rain        Cool   Normal    Weak         Yes\n",
      "__________________________________________\n",
      "     Outlook Temperature Humidity    Wind\n",
      "0      Sunny         Hot     High    Weak\n",
      "1      Sunny         Hot     High  Strong\n",
      "2   Overcast         Hot     High    Weak\n",
      "3       Rain        Mild     High    Weak\n",
      "4       Rain        Cool   Normal    Weak\n",
      "5       Rain        Cool   Normal  Strong\n",
      "6   Overcast        Cool   Normal  Strong\n",
      "7      Sunny        Mild     High    Weak\n",
      "8      Sunny        Cool   Normal    Weak\n",
      "9       Rain        Mild   Normal    Weak\n",
      "10     Sunny        Mild   Normal  Strong\n",
      "11  Overcast        Mild     High  Strong\n",
      "12  Overcast         Hot   Normal    Weak\n",
      "13      Rain        Mild     High  Strong\n",
      "__________________________________________\n",
      "0      No\n",
      "1      No\n",
      "2     Yes\n",
      "3     Yes\n",
      "4     Yes\n",
      "5      No\n",
      "6     Yes\n",
      "7      No\n",
      "8     Yes\n",
      "9     Yes\n",
      "10    Yes\n",
      "11    Yes\n",
      "12    Yes\n",
      "13     No\n",
      "Name: Play Tennis, dtype: object\n",
      "\n",
      " Training features (x_train):\n",
      "     Outlook Temperature Humidity    Wind\n",
      "12  Overcast         Hot   Normal    Weak\n",
      "5       Rain        Cool   Normal  Strong\n",
      "8      Sunny        Cool   Normal    Weak\n",
      "2   Overcast         Hot     High    Weak\n",
      "1      Sunny         Hot     High  Strong\n",
      "13      Rain        Mild     High  Strong\n",
      "4       Rain        Cool   Normal    Weak\n",
      "7      Sunny        Mild     High    Weak\n",
      "10     Sunny        Mild   Normal  Strong\n",
      "3       Rain        Mild     High    Weak\n",
      "6   Overcast        Cool   Normal  Strong\n",
      "___________________________________________\n",
      "Testing features (x_test):\n",
      "     Outlook Temperature Humidity    Wind\n",
      "9       Rain        Mild   Normal    Weak\n",
      "11  Overcast        Mild     High  Strong\n",
      "0      Sunny         Hot     High    Weak\n",
      "___________________________________________\n",
      "\n",
      " Training features (y_train):\n",
      "12    Yes\n",
      "5      No\n",
      "8     Yes\n",
      "2     Yes\n",
      "1      No\n",
      "13     No\n",
      "4     Yes\n",
      "7      No\n",
      "10    Yes\n",
      "3     Yes\n",
      "6     Yes\n",
      "Name: Play Tennis, dtype: object\n",
      "___________________________________________\n",
      "Testing features (y_test):\n",
      "9     Yes\n",
      "11    Yes\n",
      "0      No\n",
      "Name: Play Tennis, dtype: object\n",
      "___________________________________________\n"
     ]
    }
   ],
   "source": [
    "import pandas as pd\n",
    "from sklearn.model_selection import train_test_split\n",
    "data=pd.read_csv('PlayTennis.csv')\n",
    "#data=pd.read_csv('https://gist.github.com/DiogoRibeiro7/c6590d0cf119e87c39e31c21a9c0f3a8')\n",
    "print(\"\\n First few Rows of the dataset : \")\n",
    "print(data.head())\n",
    "print(\"__________________________________________\")\n",
    "x=data.drop('Play Tennis', axis=1)\n",
    "print(x)\n",
    "print(\"__________________________________________\")\n",
    "y=data['Play Tennis']\n",
    "print(y)\n",
    "x_train,x_test,y_train,y_test=train_test_split(x,y,test_size=0.2,random_state=42)\n",
    "print(\"\\n Training features (x_train):\")\n",
    "print(x_train)\n",
    "print(\"___________________________________________\")\n",
    "print(\"Testing features (x_test):\")\n",
    "print(x_test)\n",
    "print(\"___________________________________________\")\n",
    "print(\"\\n Training features (y_train):\")\n",
    "print(y_train)\n",
    "print(\"___________________________________________\")\n",
    "print(\"Testing features (y_test):\")\n",
    "print(y_test)\n",
    "print(\"___________________________________________\")"
   ]
  },
  {
   "cell_type": "code",
   "execution_count": 20,
   "metadata": {},
   "outputs": [
    {
     "name": "stdout",
     "output_type": "stream",
     "text": [
      "\n",
      " First few Rows of the dataset : \n",
      "    Outlook Temperature Humidity    Wind Play Tennis\n",
      "0     Sunny         Hot     High    Weak          No\n",
      "1     Sunny         Hot     High  Strong          No\n",
      "2  Overcast         Hot     High    Weak         Yes\n",
      "3      Rain        Mild     High    Weak         Yes\n",
      "4      Rain        Cool   Normal    Weak         Yes\n",
      "__________________________________________\n"
     ]
    }
   ],
   "source": [
    "import pandas as pd\n",
    "from sklearn.model_selection import train_test_split\n",
    "data=pd.read_csv('PlayTennis.csv')\n",
    "#data=pd.read_csv('https://gist.github.com/DiogoRibeiro7/c6590d0cf119e87c39e31c21a9c0f3a8')\n",
    "print(\"\\n First few Rows of the dataset : \")\n",
    "print(data.head())\n",
    "print(\"__________________________________________\")"
   ]
  },
  {
   "cell_type": "code",
   "execution_count": null,
   "metadata": {},
   "outputs": [],
   "source": []
  }
 ],
 "metadata": {
  "kernelspec": {
   "display_name": "Python 3 (ipykernel)",
   "language": "python",
   "name": "python3"
  },
  "language_info": {
   "codemirror_mode": {
    "name": "ipython",
    "version": 3
   },
   "file_extension": ".py",
   "mimetype": "text/x-python",
   "name": "python",
   "nbconvert_exporter": "python",
   "pygments_lexer": "ipython3",
   "version": "3.11.9"
  }
 },
 "nbformat": 4,
 "nbformat_minor": 2
}
