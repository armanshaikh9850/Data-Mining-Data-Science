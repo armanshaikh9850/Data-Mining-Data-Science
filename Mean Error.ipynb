{
 "cells": [
  {
   "cell_type": "code",
   "execution_count": 1,
   "metadata": {},
   "outputs": [
    {
     "name": "stdout",
     "output_type": "stream",
     "text": [
      "Estimate coefficients :\n",
      " a=2.27 \n",
      " b=7.64\n",
      "Mean Squared Error : 3.47\n",
      "Root Mean Squared Error: 1.86\n"
     ]
    }
   ],
   "source": [
    "import numpy as np\n",
    "from sklearn.linear_model import LinearRegression\n",
    "x=np.array([1,2,3,4,5,6,7,8]).reshape(-1,1)\n",
    "y=np.array([7,14,15,18,19,21,26,23])\n",
    "model=LinearRegression().fit(x,y)\n",
    "a=model.coef_[0]\n",
    "b=model.intercept_\n",
    "print(f\"Estimate coefficients :\\n a={a:.2f} \\n b={b:.2f}\")\n",
    "y_pred=model.predict(x)\n",
    "mse=np.mean((y-y_pred)**2)\n",
    "rmse=np.sqrt(mse)\n",
    "print(f'Mean Squared Error : {mse:.2f}')\n",
    "print(f'Root Mean Squared Error: {rmse:.2f}')\n"
   ]
  },
  {
   "cell_type": "code",
   "execution_count": 22,
   "metadata": {},
   "outputs": [
    {
     "name": "stdout",
     "output_type": "stream",
     "text": [
      "Estimated Coefficients : \n",
      " a=2.27 \n",
      " b=7.64\n",
      "Mean squared error: 3.47\n",
      "Root squared error: 1.86\n"
     ]
    },
    {
     "name": "stderr",
     "output_type": "stream",
     "text": [
      "/home/arman/.local/lib/python3.11/site-packages/sklearn/metrics/_regression.py:492: FutureWarning: 'squared' is deprecated in version 1.4 and will be removed in 1.6. To calculate the root mean squared error, use the function'root_mean_squared_error'.\n",
      "  warnings.warn(\n"
     ]
    }
   ],
   "source": [
    "import numpy as np\n",
    "from sklearn.linear_model import LinearRegression\n",
    "from sklearn.metrics import mean_squared_error\n",
    "x=np.array([1,2,3,4,5,6,7,8]).reshape(-1,1)\n",
    "y=np.array([7,14,15,18,19,21,26,23])\n",
    "model=LinearRegression().fit(x,y)\n",
    "a=model.coef_[0]\n",
    "b=model.intercept_\n",
    "print(f\"Estimated Coefficients : \\n a={a:.2f} \\n b={b:.2f}\")\n",
    "y_pred=model.predict(x)\n",
    "mse=mean_squared_error(y,y_pred)\n",
    "rmse=mean_squared_error(y,y_pred,squared=False)\n",
    "print(f\"Mean squared error: {mse:.2f}\")\n",
    "print(f\"Root squared error: {rmse:.2f}\")"
   ]
  },
  {
   "cell_type": "code",
   "execution_count": null,
   "metadata": {},
   "outputs": [],
   "source": []
  }
 ],
 "metadata": {
  "kernelspec": {
   "display_name": "Python 3 (ipykernel)",
   "language": "python",
   "name": "python3"
  },
  "language_info": {
   "codemirror_mode": {
    "name": "ipython",
    "version": 3
   },
   "file_extension": ".py",
   "mimetype": "text/x-python",
   "name": "python",
   "nbconvert_exporter": "python",
   "pygments_lexer": "ipython3",
   "version": "3.11.9"
  }
 },
 "nbformat": 4,
 "nbformat_minor": 2
}
