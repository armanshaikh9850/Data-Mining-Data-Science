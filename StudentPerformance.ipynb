{
 "cells": [
  {
   "cell_type": "code",
   "execution_count": 3,
   "metadata": {},
   "outputs": [
    {
     "name": "stdout",
     "output_type": "stream",
     "text": [
      "Shape of the dataset (rows, cloumns): (1000, 8)\n",
      "\n",
      " top 5 rows of the dataset:\n",
      "   gender race/ethnicity parental level of education         lunch  \\\n",
      "0  female        group B           bachelor's degree      standard   \n",
      "1  female        group C                some college      standard   \n",
      "2  female        group B             master's degree      standard   \n",
      "3    male        group A          associate's degree  free/reduced   \n",
      "4    male        group C                some college      standard   \n",
      "\n",
      "  test preparation course  math score  reading score  writing score  \n",
      "0                    none          72             72             74  \n",
      "1               completed          69             90             88  \n",
      "2                    none          90             95             93  \n",
      "3                    none          47             57             44  \n",
      "4                    none          76             78             75  \n",
      "\n",
      "Randomly selected rows from the dataset: \n",
      "     gender race/ethnicity parental level of education     lunch  \\\n",
      "851  female        group A                 high school  standard   \n",
      "674  female        group D                 high school  standard   \n",
      "793    male        group E            some high school  standard   \n",
      "686    male        group E                some college  standard   \n",
      "252  female        group B            some high school  standard   \n",
      "\n",
      "    test preparation course  math score  reading score  writing score  \n",
      "851                    none          61             68             63  \n",
      "674               completed          69             77             78  \n",
      "793               completed          89             84             77  \n",
      "686               completed          85             75             68  \n",
      "252               completed          60             70             70  \n",
      "\n",
      " Number of columns:  8\n",
      "Names of columns:  ['gender', 'race/ethnicity', 'parental level of education', 'lunch', 'test preparation course', 'math score', 'reading score', 'writing score']\n"
     ]
    }
   ],
   "source": [
    "import pandas as pd\n",
    "data=pd.read_csv('StudentsPerformance.csv')\n",
    "print(\"Shape of the dataset (rows, cloumns):\",data.shape)\n",
    "print(\"\\n top 5 rows of the dataset:\")\n",
    "print(data.head())\n",
    "random_rows = data .sample(n=5)\n",
    "print(\"\\nRandomly selected rows from the dataset: \")\n",
    "print(random_rows)\n",
    "print(\"\\n Number of columns: \",len(data.columns))\n",
    "print(\"Names of columns: \",list(data.columns))"
   ]
  },
  {
   "cell_type": "code",
   "execution_count": 23,
   "metadata": {},
   "outputs": [
    {
     "name": "stdout",
     "output_type": "stream",
     "text": [
      "Shape of the data (rows,columns):  (1000, 8)\n",
      "\n",
      "Top rows of the dataset: \n",
      "   gender race/ethnicity parental level of education         lunch  \\\n",
      "0  female        group B           bachelor's degree      standard   \n",
      "1  female        group C                some college      standard   \n",
      "2  female        group B             master's degree      standard   \n",
      "3    male        group A          associate's degree  free/reduced   \n",
      "4    male        group C                some college      standard   \n",
      "\n",
      "  test preparation course  math score  reading score  writing score  \n",
      "0                    none          72             72             74  \n",
      "1               completed          69             90             88  \n",
      "2                    none          90             95             93  \n",
      "3                    none          47             57             44  \n",
      "4                    none          76             78             75  \n",
      "\n",
      "5 Random dataset:\n",
      "     gender race/ethnicity parental level of education         lunch  \\\n",
      "526    male        group C            some high school  free/reduced   \n",
      "244    male        group D            some high school      standard   \n",
      "645  female        group B           bachelor's degree      standard   \n",
      "291    male        group D            some high school      standard   \n",
      "60     male        group E           bachelor's degree  free/reduced   \n",
      "\n",
      "    test preparation course  math score  reading score  writing score  \n",
      "526               completed          56             61             60  \n",
      "244                    none          75             74             69  \n",
      "645               completed          65             81             81  \n",
      "291                    none          86             73             70  \n",
      "60                completed          79             74             72  \n",
      "\n",
      "Number of columns:  8\n",
      "\n",
      "Names of columns:  Index(['gender', 'race/ethnicity', 'parental level of education', 'lunch',\n",
      "       'test preparation course', 'math score', 'reading score',\n",
      "       'writing score'],\n",
      "      dtype='object')\n"
     ]
    }
   ],
   "source": [
    "import pandas as pd\n",
    "data=pd.read_csv('StudentsPerformance.csv')\n",
    "print(\"Shape of the data (rows,columns): \",data.shape)\n",
    "print(\"\\nTop rows of the dataset: \")\n",
    "print(data.head())\n",
    "print(\"\\n5 Random dataset:\")\n",
    "print(data.sample(5))\n",
    "print(\"\\nNumber of columns: \",len(data.columns))\n",
    "print(\"\\nNames of columns: \",data.columns)"
   ]
  },
  {
   "cell_type": "code",
   "execution_count": null,
   "metadata": {},
   "outputs": [],
   "source": []
  }
 ],
 "metadata": {
  "kernelspec": {
   "display_name": "Python 3 (ipykernel)",
   "language": "python",
   "name": "python3"
  },
  "language_info": {
   "codemirror_mode": {
    "name": "ipython",
    "version": 3
   },
   "file_extension": ".py",
   "mimetype": "text/x-python",
   "name": "python",
   "nbconvert_exporter": "python",
   "pygments_lexer": "ipython3",
   "version": "3.11.9"
  }
 },
 "nbformat": 4,
 "nbformat_minor": 2
}
