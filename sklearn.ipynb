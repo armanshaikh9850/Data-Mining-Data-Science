{
 "cells": [
  {
   "cell_type": "code",
   "execution_count": 8,
   "metadata": {},
   "outputs": [
    {
     "name": "stdout",
     "output_type": "stream",
     "text": [
      "Dataset after Label Encoding Online Shopper : \n",
      "   Region   Age   Income  Online Shopper\n",
      "0   India  49.0  86400.0               0\n",
      "1  Brazil  32.0  57600.0               1\n",
      "2     USA  35.0  64800.0               0\n",
      "3  Brazil  43.0  73200.0               0\n",
      "4     USA  45.0      NaN               1\n",
      "\n",
      "Final Transformed Dataset with OneHotEncoded Region : \n",
      "   onehot__Region_India  onehot__Region_USA  remainder__Age  \\\n",
      "0                   1.0                 0.0            49.0   \n",
      "1                   0.0                 0.0            32.0   \n",
      "2                   0.0                 1.0            35.0   \n",
      "3                   0.0                 0.0            43.0   \n",
      "4                   0.0                 1.0            45.0   \n",
      "\n",
      "   remainder__Income  remainder__Online Shopper  \n",
      "0            86400.0                        0.0  \n",
      "1            57600.0                        1.0  \n",
      "2            64800.0                        0.0  \n",
      "3            73200.0                        0.0  \n",
      "4                NaN                        1.0  \n"
     ]
    }
   ],
   "source": [
    "import pandas as pd \n",
    "from sklearn.preprocessing import LabelEncoder,OneHotEncoder\n",
    "from sklearn.compose import ColumnTransformer\n",
    "data=pd.read_csv('Data.csv')\n",
    "LE=LabelEncoder()\n",
    "data['Online Shopper']=LE.fit_transform(data['Online Shopper'])\n",
    "print(\"Dataset after Label Encoding Online Shopper : \")\n",
    "print(data.head())\n",
    "CT=ColumnTransformer(transformers=[('onehot',OneHotEncoder(drop='first'),['Region'])],remainder='passthrough')\n",
    "DT=CT.fit_transform(data)\n",
    "DT=pd.DataFrame(DT,columns=CT.get_feature_names_out())\n",
    "print(\"\\nFinal Transformed Dataset with OneHotEncoded Region : \")\n",
    "print(DT.head())"
   ]
  },
  {
   "cell_type": "code",
   "execution_count": null,
   "metadata": {},
   "outputs": [],
   "source": []
  },
  {
   "cell_type": "code",
   "execution_count": null,
   "metadata": {},
   "outputs": [],
   "source": []
  }
 ],
 "metadata": {
  "kernelspec": {
   "display_name": "Python 3 (ipykernel)",
   "language": "python",
   "name": "python3"
  },
  "language_info": {
   "codemirror_mode": {
    "name": "ipython",
    "version": 3
   },
   "file_extension": ".py",
   "mimetype": "text/x-python",
   "name": "python",
   "nbconvert_exporter": "python",
   "pygments_lexer": "ipython3",
   "version": "3.11.9"
  }
 },
 "nbformat": 4,
 "nbformat_minor": 2
}
