{
 "cells": [
  {
   "cell_type": "code",
   "execution_count": 2,
   "metadata": {},
   "outputs": [
    {
     "name": "stdout",
     "output_type": "stream",
     "text": [
      "\n",
      " Null Values in each column before removal : \n",
      "Region            0\n",
      "Age               1\n",
      "Income            1\n",
      "Online Shopper    0\n",
      "dtype: int64\n",
      "\n",
      " Dataset After Removing rows with null values : \n",
      "   Region   Age   Income Online Shopper\n",
      "0   India  49.0  86400.0             No\n",
      "1  Brazil  32.0  57600.0            Yes\n",
      "2     USA  35.0  64800.0             No\n",
      "3  Brazil  43.0  73200.0             No\n",
      "5   India  40.0  69600.0            Yes\n",
      "7   India  53.0  94800.0            Yes\n",
      "8     USA  55.0  99600.0             No\n",
      "9   India  42.0  80400.0            Yes\n"
     ]
    },
    {
     "data": {
      "text/plain": [
       "array([['India', 49.0, 86400.0],\n",
       "       ['Brazil', 32.0, 57600.0],\n",
       "       ['USA', 35.0, 64800.0],\n",
       "       ['Brazil', 43.0, 73200.0],\n",
       "       ['USA', 45.0, 76533.33333333333],\n",
       "       ['India', 40.0, 69600.0],\n",
       "       ['Brazil', 43.77777777777778, 62400.0],\n",
       "       ['India', 53.0, 94800.0],\n",
       "       ['USA', 55.0, 99600.0],\n",
       "       ['India', 42.0, 80400.0]], dtype=object)"
      ]
     },
     "execution_count": 2,
     "metadata": {},
     "output_type": "execute_result"
    }
   ],
   "source": [
    "import pandas as pd  # Import function to read data\n",
    "import numpy as np  # To access specific values\n",
    "from sklearn.impute import SimpleImputer #SimpleImputer is used to find and estimate the NAN(missing) values\n",
    "# Install Packages\n",
    "# pip install --upgrade pip \n",
    "# pip instal -U scikit-learn\n",
    "dataset=pd.read_csv('Data.csv') # Read .csv File \n",
    "# We can also provide url of the github where csv file is located\n",
    "dataset\n",
    "x=dataset.iloc[:,:-1].values # Extract Specific Values\n",
    "x\n",
    "y=dataset.iloc[:,3].values # Extract Specific Values\n",
    "y\n",
    "nul=dataset.isnull().sum() \n",
    "#.isnull() will check if a column has any null values and \n",
    "#.sum() will give the total no of null values in that column\n",
    "print(\"\\n Null Values in each column before removal : \")\n",
    "print(nul)\n",
    "cln=dataset.dropna() #.dropna() Will remove the rows having null values\n",
    "print(\"\\n Dataset After Removing rows with null values : \")\n",
    "print(cln)\n",
    "imputer=SimpleImputer(missing_values=np.nan,strategy='mean') \n",
    "#Strategy is the technique of calculating the nan values\n",
    "#we have used mean to calculate the nan values\n",
    "imputer=imputer.fit(x[:,1:])\n",
    "x[:,1:]=imputer.transform(x[:,1:])\n",
    "x"
   ]
  },
  {
   "cell_type": "code",
   "execution_count": null,
   "metadata": {},
   "outputs": [],
   "source": []
  },
  {
   "cell_type": "code",
   "execution_count": null,
   "metadata": {},
   "outputs": [],
   "source": []
  },
  {
   "cell_type": "code",
   "execution_count": null,
   "metadata": {},
   "outputs": [],
   "source": []
  }
 ],
 "metadata": {
  "kernelspec": {
   "display_name": "Python 3 (ipykernel)",
   "language": "python",
   "name": "python3"
  },
  "language_info": {
   "codemirror_mode": {
    "name": "ipython",
    "version": 3
   },
   "file_extension": ".py",
   "mimetype": "text/x-python",
   "name": "python",
   "nbconvert_exporter": "python",
   "pygments_lexer": "ipython3",
   "version": "3.11.9"
  }
 },
 "nbformat": 4,
 "nbformat_minor": 2
}
